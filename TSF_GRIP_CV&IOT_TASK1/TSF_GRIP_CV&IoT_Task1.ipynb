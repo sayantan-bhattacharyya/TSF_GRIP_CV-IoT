{
 "cells": [
  {
   "cell_type": "markdown",
   "metadata": {},
   "source": [
    "# The Sparks Foundation\n",
    "#### Computer Vision and Internet of Things internship\n",
    "\n",
    "----------Other domain task-----------\n",
    "\n",
    "##### Name: Sayantan Bhattacharyya\n",
    "##### July 2021 intern\n",
    "\n",
    "##### College: Institute of Engineering & Management, Kolkata\n",
    "##### Year of study: 2020-2024\n",
    "\n",
    "###### e-mail: sayantan0201@gmail.com\n",
    "\n",
    "###### Task: Implement an object detector which identifies the classes of the objects in an image or video."
   ]
  },
  {
   "cell_type": "markdown",
   "metadata": {},
   "source": [
    "### 1.1 Importing required modules"
   ]
  },
  {
   "cell_type": "code",
   "execution_count": 8,
   "metadata": {},
   "outputs": [],
   "source": [
    "import cv2"
   ]
  },
  {
   "cell_type": "markdown",
   "metadata": {},
   "source": [
    "### 1.2 Creating a list of class labels"
   ]
  },
  {
   "cell_type": "code",
   "execution_count": 9,
   "metadata": {},
   "outputs": [
    {
     "name": "stdout",
     "output_type": "stream",
     "text": [
      "person\n",
      "bicycle\n",
      "car\n",
      "motorcycle\n",
      "airplane\n",
      "bus\n",
      "train\n",
      "truck\n",
      "boat\n",
      "traffic light\n",
      "fire hydrant\n",
      "street sign\n",
      "stop sign\n",
      "parking meter\n",
      "bench\n",
      "bird\n",
      "cat\n",
      "dog\n",
      "horse\n",
      "sheep\n",
      "cow\n",
      "elephant\n",
      "bear\n",
      "zebra\n",
      "giraffe\n",
      "hat\n",
      "backpack\n",
      "umbrella\n",
      "shoe\n",
      "eye glasses\n",
      "handbag\n",
      "tie\n",
      "suitcase\n",
      "frisbee\n",
      "skis\n",
      "snowboard\n",
      "sports ball\n",
      "kite\n",
      "baseball bat\n",
      "baseball glove\n",
      "skateboard\n",
      "surfboard\n",
      "tennis racket\n",
      "bottle\n",
      "plate\n",
      "wine glass\n",
      "cup\n",
      "fork\n",
      "knife\n",
      "spoon\n",
      "bowl\n",
      "banana\n",
      "apple\n",
      "sandwich\n",
      "orange\n",
      "broccoli\n",
      "carrot\n",
      "hot dog\n",
      "pizza\n",
      "donut\n",
      "cake\n",
      "chair\n",
      "couch\n",
      "potted plant\n",
      "bed\n",
      "mirror\n",
      "dining table\n",
      "window\n",
      "desk\n",
      "toilet\n",
      "door\n",
      "tv\n",
      "laptop\n",
      "mouse\n",
      "remote\n",
      "keyboard\n",
      "cell phone\n",
      "microwave\n",
      "oven\n",
      "toaster\n",
      "sink\n",
      "refrigerator\n",
      "blender\n",
      "book\n",
      "clock\n",
      "vase\n",
      "scissors\n",
      "teddy bear\n",
      "hair drier\n",
      "toothbrush\n",
      "hair brush\n",
      "Total classes--91\n"
     ]
    }
   ],
   "source": [
    "classNames= []\n",
    "classFile = 'coco.names'\n",
    "with open(classFile,'rt') as f:\n",
    "    classNames = f.read().rstrip('\\n').split('\\n')\n",
    "    \n",
    "#printing the list of class names--\n",
    "\n",
    "for i in classNames:\n",
    "    print(str(i))\n",
    "print(\"Total classes--\"+str(len(classNames)))"
   ]
  },
  {
   "cell_type": "markdown",
   "metadata": {},
   "source": [
    "### 1.3 Getting our model ready"
   ]
  },
  {
   "cell_type": "code",
   "execution_count": 10,
   "metadata": {},
   "outputs": [],
   "source": [
    "configPath = 'ssd_mobilenet_v3_large_coco_2020_01_14.pbtxt'\n",
    "weightsPath = 'frozen_inference_graph.pb'"
   ]
  },
  {
   "cell_type": "code",
   "execution_count": 11,
   "metadata": {},
   "outputs": [
    {
     "data": {
      "text/plain": [
       "<dnn_Model 0000027363B5F230>"
      ]
     },
     "execution_count": 11,
     "metadata": {},
     "output_type": "execute_result"
    }
   ],
   "source": [
    "model = cv2.dnn_DetectionModel(weightsPath,configPath)\n",
    "model.setInputSize(320, 320)\n",
    "model.setInputScale(1.0 / 127.5)\n",
    "model.setInputMean((127.5, 127.5, 127.5))\n",
    "model.setInputSwapRB(True)"
   ]
  },
  {
   "cell_type": "markdown",
   "metadata": {},
   "source": [
    "### 1.4 Object detection using webcam"
   ]
  },
  {
   "cell_type": "code",
   "execution_count": 19,
   "metadata": {},
   "outputs": [],
   "source": [
    "capture = cv2.VideoCapture(0)\n",
    "capture.set(3, 1280)\n",
    "capture.set(4, 720)\n",
    "capture.set(10, 150)\n",
    "if not capture.isOpened():\n",
    "    raise IOEror('!!Cannot open video!!')\n",
    "    \n",
    "font_scale = 2\n",
    "font = cv2.FONT_HERSHEY_DUPLEX\n",
    "    \n",
    "while True:\n",
    "    ret, frame=capture.read()\n",
    "    ClassIndex, confidence, bbox = model.detect(frame, confThreshold=0.45)\n",
    "    \n",
    "    if (len(ClassIndex)!=0):\n",
    "        for classInd, conf, boxes in zip(ClassIndex.flatten(), confidence.flatten(), bbox):\n",
    "            if classInd<=91 :\n",
    "                cv2.rectangle(frame, boxes, (100,125,255), 4)\n",
    "                cv2.putText(frame, classNames[classInd-1], (boxes[0]+10, boxes[1]+40), font, fontScale=font_scale, color=(0,240,0))\n",
    "    \n",
    "    cv2.imshow('Object Dectector--Press q to exit', frame)\n",
    "    \n",
    "    if cv2.waitKey(2) & 0xFF ==ord('q'):\n",
    "        break\n",
    "\n",
    "capture.release()\n",
    "cv2.destroyAllWindows()"
   ]
  },
  {
   "cell_type": "code",
   "execution_count": null,
   "metadata": {},
   "outputs": [],
   "source": []
  },
  {
   "cell_type": "code",
   "execution_count": null,
   "metadata": {},
   "outputs": [],
   "source": []
  }
 ],
 "metadata": {
  "kernelspec": {
   "display_name": "Python 3",
   "language": "python",
   "name": "python3"
  },
  "language_info": {
   "codemirror_mode": {
    "name": "ipython",
    "version": 3
   },
   "file_extension": ".py",
   "mimetype": "text/x-python",
   "name": "python",
   "nbconvert_exporter": "python",
   "pygments_lexer": "ipython3",
   "version": "3.8.5"
  }
 },
 "nbformat": 4,
 "nbformat_minor": 4
}
